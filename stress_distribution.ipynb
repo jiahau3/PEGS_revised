{
 "cells": [
  {
   "cell_type": "code",
   "execution_count": 26,
   "metadata": {},
   "outputs": [],
   "source": [
    "import numpy as np\n",
    "import math"
   ]
  },
  {
   "cell_type": "code",
   "execution_count": 38,
   "metadata": {},
   "outputs": [],
   "source": [
    "def stress_calc(xxi, xxj, z, f, alpha, beta, rm):\n",
    "    sigmaxx=0\n",
    "    sigmayy=0\n",
    "    sigmaxy=0\n",
    "    \n",
    "    for k in range(z):\n",
    "        b = beta[k]\n",
    "        a = alpha[k]\n",
    "        if (a<0):\n",
    "            b2 = b+(np.pi+2*a)\n",
    "        else:\n",
    "            b2 = b-(np.pi-2*a)\n",
    "            \n",
    "        x1 = rm*np.sin(b)\n",
    "        y1 = rm*np.cos(b)\n",
    "        x2 = rm*np.sin(b2)\n",
    "        y2 = rm*np.cos(b2)\n",
    "        ch0 = x2-x1\n",
    "        ch1 = y2-y1\n",
    "        chn = np.sqrt(ch0**2+ch1**2)\n",
    "        ch0 = ch0/chn\n",
    "        ch1 = ch1/chn\n",
    "        r10 = xxi - x1\n",
    "        r11 = -xxj - y1\n",
    "        r1n = np.sqrt(r10**2+r11**2)\n",
    "        costh1 = (r10*ch0+r11*ch1)/r1n\n",
    "        if (r11*ch0>r10*ch1):\n",
    "            signth = 1\n",
    "        else:\n",
    "            signth = -1\n",
    "        th1 = signth*math.acos(costh1)\n",
    "        s2 = -(f[k]*1/(np.pi*rm))*(-np.sin(a))\n",
    "        s1 = -(f[k]*2/np.pi)/r1n*costh1\n",
    "        sr = s1-s2\n",
    "        th = th1-beta[k]-alpha[k]\n",
    "        sigmaxx = sigmaxx + sr*((np.sin(th))**2)\n",
    "        sigmayy = sigmayy + sr*((np.cos(th))**2)\n",
    "        sigmaxy = sigmaxy + 0.5*s1*(np.sin(2*th))\n",
    "        \n",
    "    result = sigmaxx\n",
    "    return result"
   ]
  },
  {
   "cell_type": "code",
   "execution_count": 5,
   "metadata": {},
   "outputs": [
    {
     "data": {
      "text/plain": [
       "<function __main__.stress_calc(xxi, xxj, z, f, alpha, beta, rm)>"
      ]
     },
     "execution_count": 5,
     "metadata": {},
     "output_type": "execute_result"
    }
   ],
   "source": [
    "z = 3\n",
    "f = np.array([0.25,1.04,0.86])\n",
    "alpha = np.array([0.067,0.001,0.004])\n",
    "beta = np.array([1.841,0.418,3.596])\n",
    "rm = 0.004\n",
    "px = \n",
    "\n",
    "\n",
    "img = np.zeros(px)\n",
    "stress_calc"
   ]
  },
  {
   "cell_type": "code",
   "execution_count": 42,
   "metadata": {},
   "outputs": [
    {
     "data": {
      "text/plain": [
       "1"
      ]
     },
     "execution_count": 42,
     "metadata": {},
     "output_type": "execute_result"
    }
   ],
   "source": [
    "b = np.array([1,1,1])\n",
    "b[0]"
   ]
  }
 ],
 "metadata": {
  "kernelspec": {
   "display_name": "Python 3",
   "language": "python",
   "name": "python3"
  },
  "language_info": {
   "codemirror_mode": {
    "name": "ipython",
    "version": 3
   },
   "file_extension": ".py",
   "mimetype": "text/x-python",
   "name": "python",
   "nbconvert_exporter": "python",
   "pygments_lexer": "ipython3",
   "version": "3.7.4"
  }
 },
 "nbformat": 4,
 "nbformat_minor": 2
}
